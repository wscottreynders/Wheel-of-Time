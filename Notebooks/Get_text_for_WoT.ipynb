{
 "cells": [
  {
   "cell_type": "code",
   "execution_count": 1,
   "id": "1789493e",
   "metadata": {},
   "outputs": [],
   "source": [
    "import pandas as pd\n",
    "import numpy as np\n",
    "import requests\n",
    "import re\n",
    "from bs4 import BeautifulSoup\n"
   ]
  },
  {
   "cell_type": "code",
   "execution_count": 2,
   "id": "befbd9db",
   "metadata": {},
   "outputs": [],
   "source": [
    "def Get_txt_from_webpage(url_value):\n",
    "\n",
    "    url = url_value\n",
    "\n",
    "    res = requests.get(url)\n",
    " \n",
    "    # Initialize the object with the document\n",
    "    soup = BeautifulSoup(res.content, \"html.parser\")\n",
    " \n",
    "    # Get the whole body tag\n",
    "    tag = soup.body\n",
    "    \n",
    "    clean_text = ''\n",
    "\n",
    "    for string in tag.strings:\n",
    "        if string not in clean_text:\n",
    "            clean_text += string\n",
    "            \n",
    "    return clean_text"
   ]
  },
  {
   "cell_type": "code",
   "execution_count": 3,
   "id": "c063a83b",
   "metadata": {
    "scrolled": true
   },
   "outputs": [],
   "source": [
    "# Cleans text for web page with chapter one\n",
    "def clean_book_text_ch1(clean_text):\n",
    "\n",
    "    clean_text = re.sub(r'.*WorldChapter', '', clean_text)\n",
    "    clean_text = re.sub(r'Chapter 2Chapter.*$', '', clean_text)\n",
    "    clean_text = re.sub(r'\\n', ' ', clean_text)\n",
    "    clean_text = re.sub(r'\\r', ' ', clean_text)\n",
    "    clean_text = re.sub(r'\\t', ' ', clean_text)\n",
    "    clean_text = re.sub(r'\\\\', ' ', clean_text)\n",
    "    clean_text = re.sub(r'[\\']', '', clean_text)\n",
    "    clean_text = re.sub(' +', ' ', clean_text)\n",
    "    clean_text = re.sub('AnyBooksFree', '', clean_text)\n",
    "    clean_text = re.sub('Chapter', '', clean_text)\n",
    "    clean_text = re.sub(' +', ' ', clean_text)\n",
    "    \n",
    "    return clean_text"
   ]
  },
  {
   "cell_type": "code",
   "execution_count": 4,
   "id": "ce0de6bf",
   "metadata": {},
   "outputs": [],
   "source": [
    "# Cleans text for all other chapters besides chapter one\n",
    "def clean_book_text_else(clean_text):\n",
    "    \n",
    "    clean_text = re.sub(r'.*WorldChapter', '', clean_text)\n",
    "    clean_text = re.sub(r'Chapter 1Chapter.*$', '', clean_text)\n",
    "    clean_text = re.sub(r'\\n', ' ', clean_text)\n",
    "    clean_text = re.sub(r'\\r', ' ', clean_text)\n",
    "    clean_text = re.sub(r'\\t', ' ', clean_text)\n",
    "    clean_text = re.sub(r'\\\\', ' ', clean_text)\n",
    "    clean_text = re.sub(r'[\\']', '', clean_text)\n",
    "    clean_text = re.sub(' +', ' ', clean_text)\n",
    "    clean_text = re.sub('AnyBooksFree', '', clean_text)\n",
    "    clean_text = re.sub('Chapter', '', clean_text)\n",
    "    clean_text = re.sub(' +', ' ', clean_text)\n",
    "    \n",
    "    return clean_text"
   ]
  },
  {
   "cell_type": "code",
   "execution_count": 34,
   "id": "4da1e78f",
   "metadata": {},
   "outputs": [],
   "source": [
    "def get_WoT_1_text():\n",
    "    '''\n",
    "    This function creates a list of all the URLs I want to scrape\n",
    "    to aquire the chapter text.\n",
    "    '''\n",
    "\n",
    "count = 1\n",
    "list_of_URLs = []\n",
    "\n",
    "while count < 58:\n",
    "    URL = \"https://thefreeonlinenovel.com/con/the-dragon-reborn_chapter-{}\".format(count)\n",
    "    \n",
    "    if URL is not list_of_URLs:\n",
    "        list_of_URLs.append(URL)\n",
    "        count += 1"
   ]
  },
  {
   "cell_type": "code",
   "execution_count": 35,
   "id": "b6555483",
   "metadata": {},
   "outputs": [],
   "source": [
    "def extract_and_store_WoT():\n",
    "    \n",
    "    count = 2\n",
    "    \n",
    "     \n",
    "    for url in list_of_URLs:\n",
    "        \n",
    "        if url == \"https://thefreeonlinenovel.com/con/the-dragon-reborn_chapter-1\":\n",
    "            \n",
    "            text = Get_txt_from_webpage(url)\n",
    "           \n",
    "            clean_text = clean_book_text_ch1(text)\n",
    "        \n",
    "            text_file = open(r\"C:\\Users\\wscot\\gas\\Wheel_of_Time_Book_txt\\The_Dragon_Reborn/Chapter_1.txt\", \"w\", encoding=\"utf-8\")\n",
    " \n",
    "            text_file.write(clean_text)\n",
    "\n",
    "            text_file.close()\n",
    "        \n",
    "        else:\n",
    "            text = Get_txt_from_webpage(url)\n",
    "           \n",
    "            clean_text = clean_book_text_else(text)\n",
    "            \n",
    "            text_file = open(r\"C:\\Users\\wscot\\gas\\Wheel_of_Time_Book_txt\\The_Dragon_Reborn/Chapter_{}.txt\".format(count), \"w\", encoding=\"utf-8\")\n",
    " \n",
    "            #write string to file\n",
    "            text_file.write(clean_text)\n",
    " \n",
    "            #close file\n",
    "            text_file.close()\n",
    "           \n",
    "            count += 1"
   ]
  },
  {
   "cell_type": "code",
   "execution_count": 36,
   "id": "4ea222a5",
   "metadata": {
    "scrolled": true
   },
   "outputs": [],
   "source": [
    "extract_and_store_WoT()"
   ]
  }
 ],
 "metadata": {
  "kernelspec": {
   "display_name": "Python 3",
   "language": "python",
   "name": "python3"
  },
  "language_info": {
   "codemirror_mode": {
    "name": "ipython",
    "version": 3
   },
   "file_extension": ".py",
   "mimetype": "text/x-python",
   "name": "python",
   "nbconvert_exporter": "python",
   "pygments_lexer": "ipython3",
   "version": "3.8.8"
  }
 },
 "nbformat": 4,
 "nbformat_minor": 5
}
