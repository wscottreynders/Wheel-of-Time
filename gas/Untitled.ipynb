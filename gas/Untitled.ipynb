{
 "cells": [
  {
   "cell_type": "code",
   "execution_count": 52,
   "id": "7b2cc597",
   "metadata": {},
   "outputs": [],
   "source": [
    "import pandas as pd\n",
    "import numpy as np\n",
    "import requests\n",
    "import re\n",
    "from bs4 import BeautifulSoup"
   ]
  },
  {
   "cell_type": "code",
   "execution_count": 53,
   "id": "09774cac",
   "metadata": {},
   "outputs": [],
   "source": [
    "list_of_scripts_URLs = [\n",
    "    \"https://wot-prime.fandom.com/wiki/Leavetaking/Transcript\",\n",
    "    \"https://wot-prime.fandom.com/wiki/Shadow%27s_Waiting/Transcript\",\n",
    "    \"https://wot-prime.fandom.com/wiki/A_Place_of_Safety/Transcript\",\n",
    "    \"https://wot-prime.fandom.com/wiki/The_Dragon_Reborn/Transcript\",\n",
    "    \"https://wot-prime.fandom.com/wiki/Blood_Calls_Blood/Transcript\",\n",
    "    \"https://wot-prime.fandom.com/wiki/The_Flame_of_Tar_Valon/Transcript\",\n",
    "    \"https://wot-prime.fandom.com/wiki/The_Dark_Along_the_Ways/Transcript\",\n",
    "    \"https://wot-prime.fandom.com/wiki/The_Eye_of_the_World_(episode)/Transcript\"  \n",
    "]"
   ]
  },
  {
   "cell_type": "code",
   "execution_count": 59,
   "id": "c0c38fd4",
   "metadata": {
    "scrolled": true
   },
   "outputs": [],
   "source": [
    "def get_text(URL):\n",
    "\n",
    "    url = URL\n",
    "    res = requests.get(url)\n",
    "    html_page = res.content\n",
    "    soup = BeautifulSoup(html_page, 'html.parser')\n",
    "\n",
    "    clean_text = ''\n",
    "\n",
    "    for team in soup.findAll('div', 'transcript'):\n",
    "        ttext = str(team.text)\n",
    "        if ttext not in clean_text:\n",
    "            clean_text += ttext   \n",
    "            \n",
    "    return clean_text"
   ]
  },
  {
   "cell_type": "code",
   "execution_count": 62,
   "id": "d06be073",
   "metadata": {},
   "outputs": [],
   "source": [
    "def extract_and_store_WoT():\n",
    "    count = 1\n",
    "\n",
    "    for url in list_of_scripts_URLs:\n",
    "        \n",
    "        text = get_text(url)\n",
    "    \n",
    "        text_file = open(r\"C:\\Users\\wscot\\gas\\Wheel_of_Time_Script_txt\\Season_1\\Episode_{}.txt\".format(count), \"w\", encoding=\"utf-8\")\n",
    " \n",
    "        #write string to file\n",
    "        text_file.write(text)\n",
    " \n",
    "        #close file\n",
    "        text_file.close()\n",
    "    \n",
    "        count += 1\n",
    "    "
   ]
  },
  {
   "cell_type": "code",
   "execution_count": 63,
   "id": "60a98b9b",
   "metadata": {},
   "outputs": [],
   "source": [
    "extract_and_store_WoT()"
   ]
  },
  {
   "cell_type": "code",
   "execution_count": null,
   "id": "dcd8c849",
   "metadata": {},
   "outputs": [],
   "source": []
  }
 ],
 "metadata": {
  "kernelspec": {
   "display_name": "Python 3",
   "language": "python",
   "name": "python3"
  },
  "language_info": {
   "codemirror_mode": {
    "name": "ipython",
    "version": 3
   },
   "file_extension": ".py",
   "mimetype": "text/x-python",
   "name": "python",
   "nbconvert_exporter": "python",
   "pygments_lexer": "ipython3",
   "version": "3.8.8"
  }
 },
 "nbformat": 4,
 "nbformat_minor": 5
}
